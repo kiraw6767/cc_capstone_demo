{
 "cells": [
  {
   "cell_type": "code",
   "execution_count": 1,
   "id": "323f8da5-0558-4fd9-aeb4-7f7dd9dda6e6",
   "metadata": {},
   "outputs": [],
   "source": [
    "# minesweeper"
   ]
  },
  {
   "cell_type": "code",
   "execution_count": 2,
   "id": "b3c6cec4-a743-4fc3-af24-424390a42fa9",
   "metadata": {},
   "outputs": [],
   "source": [
    "import numpy as np"
   ]
  },
  {
   "cell_type": "code",
   "execution_count": 3,
   "id": "5d5f933b-8648-430b-ae3e-2384c49e4a9b",
   "metadata": {},
   "outputs": [
    {
     "ename": "SyntaxError",
     "evalue": "invalid decimal literal (446482966.py, line 1)",
     "output_type": "error",
     "traceback": [
      "\u001b[0;36m  Cell \u001b[0;32mIn[3], line 1\u001b[0;36m\u001b[0m\n\u001b[0;31m    mine_grid: boolean 2D array (True = mine, False = empty)\u001b[0m\n\u001b[0m                       ^\u001b[0m\n\u001b[0;31mSyntaxError\u001b[0m\u001b[0;31m:\u001b[0m invalid decimal literal\n"
     ]
    }
   ],
   "source": [
    "mine_grid: boolean 2D array (True = mine, False = empty)\n",
    "count_grid: integer 2D array (0-8, neighbor mine counts)\n",
    "display_grid: state 2D array (HIDDEN/REVEALED/FLAGGED)\n",
    "\n",
    "# Display states\n",
    "HIDDEN = 0\n",
    "REVEALED = 1  \n",
    "FLAGGED = 2\n",
    "\n",
    "# Game states\n",
    "PLAYING = 0\n",
    "WON = 1\n",
    "LOST = 2\n",
    "\n",
    "# Display symbols\n",
    "SYMBOLS = {\n",
    "    HIDDEN: '□',      # Or '.' or '#'\n",
    "    FLAGGED: 'F',     # Or '⚑'\n",
    "    'MINE': '*',      # Or '💣'\n",
    "    'EMPTY': ' '      # Revealed empty cell\n",
    "    # Numbers 1-8 display as themselves\n",
    "}"
   ]
  },
  {
   "cell_type": "code",
   "execution_count": null,
   "id": "1049af2d-b3d4-4f17-82f5-ecdacb8cde56",
   "metadata": {},
   "outputs": [],
   "source": [
    "# Generated board (10x8)\n",
    "[[\"#\",\"#\",\"#\",\"#\",\"#\",\"#\",\"#\",\"#\",\"#\",\"#\"]\n",
    " [\"#\",\"#\",\"#\",\"#\",\"#\",\"#\",\"#\",\"#\",\"#\",\"#\"]\n",
    " [\"#\",\"#\",\"#\",\"#\",\"#\",\"#\",\"#\",\"#\",\"#\",\"#\"]\n",
    " [\"#\",\"#\",\"#\",\"#\",\"#\",\"#\",\"#\",\"#\",\"#\",\"#\"]\n",
    " [\"#\",\"#\",\"#\",\"#\",\"#\",\"#\",\"#\",\"#\",\"#\",\"#\"]\n",
    " [\"#\",\"#\",\"#\",\"#\",\"#\",\"#\",\"#\",\"#\",\"#\",\"#\"]\n",
    " [\"#\",\"#\",\"#\",\"#\",\"#\",\"#\",\"#\",\"#\",\"#\",\"#\"]\n",
    " [\"#\",\"#\",\"#\",\"#\",\"#\",\"#\",\"#\",\"#\",\"#\",\"#\"]]\n",
    "\n",
    "# With some revealed examples\n",
    "[[\"#\",\"#\",\"#\",\"#\",\"#\",\"#\",\"#\",\"#\",\"#\",\"#\"]\n",
    " [\"#\",\"#\",\"#\",\"F\",\"F\",\".\",\"#\",\"#\",\"#\",\"#\"]\n",
    " [\"#\",\"#\",\"#\",\"F\",\"3\",\".\",\"#\",\"#\",\"#\",\"#\"]\n",
    " [\"#\",\"#\",\"#\",\".\",\".\",\".\",\".\",\"#\",\"#\",\"#\"]\n",
    " [\"#\",\"#\",\".\",\".\",\".\",\"1\",\"F\",\"#\",\"#\",\"#\"]\n",
    " [\".\",\".\",\".\",\"2\",\".\",\".\",\".\",\"#\",\"#\",\"#\"]\n",
    " [\"1\",\"2\",\"F\",\"F\",\".\",\"#\",\"#\",\"#\",\"#\",\"#\"]\n",
    " [\".\",\"F\",\".\",\"#\",\"#\",\"#\",\"#\",\"#\",\"#\",\"#\"]]\n",
    "\n",
    "# KEY:\n",
    "# \"#\" unrevealed\n",
    "# \"F\" flagged mine\n",
    "# \".\" revealed\n",
    "# \"1-8\" number of surrounding mines"
   ]
  },
  {
   "cell_type": "code",
   "execution_count": 5,
   "id": "de16eeb8-56a7-4f40-ab04-d708f1241742",
   "metadata": {},
   "outputs": [],
   "source": [
    "import random"
   ]
  },
  {
   "cell_type": "code",
   "execution_count": 46,
   "id": "430e7053-2fff-4c92-a855-81f15e509bcf",
   "metadata": {},
   "outputs": [],
   "source": [
    "# function to generate board:\n",
    "def generate_board(n_row, n_col, num_mines):\n",
    "    # create lists with given dimensions + add random mines\n",
    "    board = []\n",
    "    for _ in range(n_row):\n",
    "        rows = []\n",
    "        for _ in range(n_col):\n",
    "            rows.append(0)\n",
    "        board.append(rows)\n",
    "    mines = set()\n",
    "    while len(mines) < num_mines:\n",
    "        r = random.randint(0, n_row - 1)\n",
    "        c = random.randint(0, n_col - 1)\n",
    "        if (r, c) not in mines:\n",
    "            board[r][c] = 'X'\n",
    "            mines.add((r,c))\n",
    "    # add numbers of mines\n",
    "    directions = [(-1, -1), (-1, 0), (-1, 1), (0, -1), (0, 1), (1, -1), (1, 0), (1, 1)]\n",
    "    for r in range(n_row):\n",
    "        for c in range(n_col):\n",
    "            if board[r][c] == 'X':\n",
    "                continue\n",
    "            count = 0\n",
    "            for dr, dc in directions:\n",
    "                nr = r + dr\n",
    "                nc = c + dc\n",
    "                if 0 <= nr < n_row and 0 <= nc < n_col:\n",
    "                    if board[nr][nc] == 'X':\n",
    "                        count += 1\n",
    "            board[r][c] = count\n",
    "    return board, mines\n",
    "\n",
    "def type_coords(board, thing):\n",
    "    coords = set()\n",
    "    for r, row in enumerate(board):\n",
    "        for c, val in enumerate(row):\n",
    "            if val == thing:\n",
    "                coords.add((r, c))\n",
    "    return coords\n",
    "\n",
    "# prints board with correct dimensions and unrevealed cells\n",
    "def display_board(board): \n",
    "    covered_board = []\n",
    "    for i in range(len(board)):\n",
    "        covered_rows = []\n",
    "        for i in range(len(board[0])):\n",
    "            covered_rows.append(\"#\")\n",
    "        covered_board.append(covered_rows)\n",
    "    return covered_board\n",
    "\n",
    "# reveal cell (like left click)\n",
    "def reveal_cell(board, covered_board, r, c):\n",
    "    if covered_board[r][c] != \"#\":\n",
    "        return True  # already revealed\n",
    "    if board[r][c] == \"X\":\n",
    "        covered_board[r][c] = \"X\"\n",
    "        return False  # game over\n",
    "\n",
    "    # Flood fill if it's 0\n",
    "    to_reveal = [(r, c)]\n",
    "    directions = [(-1, -1), (-1, 0), (-1, 1),(0, -1),(0, 1),(1, -1), (1, 0),(1, 1)]\n",
    "    while to_reveal:\n",
    "        x, y = to_reveal.pop()\n",
    "        if covered_board[x][y] != \"#\":\n",
    "            continue\n",
    "        covered_board[x][y] = board[x][y]\n",
    "        if board[x][y] == 0:\n",
    "            for dr, dc in directions:\n",
    "                nx, ny = x + dr, y + dc\n",
    "                if 0 <= nx < len(board) and 0 <= ny < len(board[0]):\n",
    "                    if covered_board[nx][ny] == \"#\":\n",
    "                        to_reveal.append((nx, ny))\n",
    "    return True\n",
    "\n",
    "# flag cell (like right click)\n",
    "def flag_cell(covered_board,r,c):\n",
    "    if covered_board[r][c] == \"F\":\n",
    "        covered_board[r][c] = \"#\"\n",
    "    elif covered_board[r][c] == \"#\":\n",
    "        covered_board[r][c] = \"F\"\n",
    "    return covered_board\n",
    "\n",
    "def check_win(board, covered_board, mine_coords): # check coords of flags = mines, no more hash on board\n",
    "    flagged = set()\n",
    "    unrevealed = 0\n",
    "\n",
    "    for r in range(len(covered_board)):\n",
    "        for c in range(len(covered_board[0])):\n",
    "            cell = covered_board[r][c]\n",
    "            if cell == '#':\n",
    "                unrevealed += 1\n",
    "            elif cell == 'F':\n",
    "                flagged.add((r, c))\n",
    "\n",
    "    # Check: all mines flagged, and no hidden cells left\n",
    "    return flagged == mine_coords and unrevealed == 0\n",
    "\n",
    "def reveal_all_mines(board, covered_board):\n",
    "    for r in range(len(board)):\n",
    "        for c in range(len(board[0])):\n",
    "            if board[r][c] == 'X':\n",
    "                covered_board[r][c] = 'X'\n",
    "    return covered_board\n",
    "\n",
    "def prettyprint(board):\n",
    "    as_str = []\n",
    "    for row in board:\n",
    "        as_str.append(str(row))\n",
    "    return (\"\\n\".join(as_str))\n",
    "\n",
    "\n",
    "def play_game(rows=8, cols=10, num_mines=10):\n",
    "    board, mine_coords = generate_board(rows,cols,num_mines)\n",
    "    covered = display_board(board)\n",
    "\n",
    "    while True:\n",
    "        print(\"+------------------------------------------------+\")\n",
    "        print(prettyprint(covered))\n",
    "        print(\"+------------------------------------------------+\")\n",
    "        action = input(\"Enter move (R/F row col):\").split() # get player's choice\n",
    "\n",
    "        # check if there are 3 values in input\n",
    "        if len(action) != 3:\n",
    "            print(\"❌ Invalid input, use this format: f 1 2 or r 0 0!\")\n",
    "            continue\n",
    "        # check if row and col are numbers\n",
    "        action, r_str, c_str = action\n",
    "        if not (r_str.isdigit() and c_str.isdigit()):\n",
    "            print(\"❌ Row and column must be numbers!\")\n",
    "            continue\n",
    "        # check if coord is within board    \n",
    "        r = int(r_str)\n",
    "        c = int(c_str)\n",
    "        if not (0 <= r < rows and 0 <= c < cols):\n",
    "            print(\"❌ Coordinates out of bounds.\")\n",
    "            continue\n",
    "\n",
    "        # if player reveal or flag\n",
    "        if action == \"R\":\n",
    "            alive = reveal_cell(board, covered, r, c)\n",
    "            if not alive:\n",
    "                reveal_all_mines(board, covered)\n",
    "                print(prettyprint(covered))\n",
    "                print(\"💥 You hit a mine... GAME OVER!\")\n",
    "                break\n",
    "        elif action == \"F\":\n",
    "            flag_cell(covered, r, c)\n",
    "        else:\n",
    "            print(\"❌ Unknown action! Use 'R' to reveal or 'F' to flag.\")\n",
    "            continue\n",
    "\n",
    "        if check_win(covered, covered_board, mine_coords):\n",
    "            prettyprint(covered)\n",
    "            print(\"You won! Congratulations.\")\n",
    "            break\n",
    "\n",
    "#if __name__ == \"__main__\":\n",
    "#    play_game()"
   ]
  },
  {
   "cell_type": "code",
   "execution_count": null,
   "id": "3c6929dc-a927-442e-8668-1852c9be2b9c",
   "metadata": {},
   "outputs": [],
   "source": [
    "type_coords(board,\"X\")"
   ]
  },
  {
   "cell_type": "code",
   "execution_count": 11,
   "id": "51040177-57eb-4b2f-98df-532941b0f627",
   "metadata": {},
   "outputs": [
    {
     "name": "stdout",
     "output_type": "stream",
     "text": [
      "[0, 0, 0, 0, 0, 0, 0, 1, 1, 1]\n",
      "[0, 0, 0, 0, 0, 0, 0, 1, 'X', 2]\n",
      "[0, 0, 0, 0, 0, 0, 1, 2, 3, 'X']\n",
      "[0, 0, 0, 0, 0, 0, 1, 'X', 2, 1]\n",
      "[0, 0, 1, 2, 2, 2, 2, 2, 1, 0]\n",
      "[0, 0, 1, 'X', 'X', 2, 'X', 2, 1, 0]\n",
      "[1, 1, 2, 2, 2, 2, 2, 'X', 1, 0]\n",
      "[1, 'X', 1, 0, 0, 0, 1, 1, 1, 0]\n",
      "Mine coords: {(7, 1), (3, 7), (5, 4), (1, 8), (6, 7), (2, 9), (5, 6), (5, 3)}\n"
     ]
    }
   ],
   "source": [
    "board,mines = generate_board(8,10,8)\n",
    "print(prettyprint(board))\n",
    "print(f\"Mine coords: {mines}\")"
   ]
  },
  {
   "cell_type": "code",
   "execution_count": 12,
   "id": "f0f2b92f-dccb-41ca-8b13-dbdf861af895",
   "metadata": {},
   "outputs": [
    {
     "data": {
      "text/plain": [
       "[['#', '#', '#', '#', '#', '#', '#', '#', '#', '#'],\n",
       " ['#', '#', '#', '#', '#', '#', '#', '#', '#', '#'],\n",
       " ['#', '#', '#', '#', '#', '#', '#', '#', '#', '#'],\n",
       " ['#', '#', '#', '#', '#', '#', '#', '#', '#', '#'],\n",
       " ['#', '#', '#', '#', '#', '#', '#', '#', '#', '#'],\n",
       " ['#', '#', '#', '#', '#', '#', '#', '#', '#', '#'],\n",
       " ['#', '#', '#', '#', '#', '#', '#', '#', '#', '#'],\n",
       " ['#', '#', '#', '#', '#', '#', '#', '#', '#', '#']]"
      ]
     },
     "execution_count": 12,
     "metadata": {},
     "output_type": "execute_result"
    }
   ],
   "source": [
    "covered_board = (display_board(board))\n",
    "covered_board"
   ]
  },
  {
   "cell_type": "code",
   "execution_count": 13,
   "id": "b29f5686-d0bd-4607-bd18-a940d1a4a0a9",
   "metadata": {},
   "outputs": [
    {
     "data": {
      "text/plain": [
       "[[0, 0, 0, 0, 0, 0, 0, 1, 1, 1],\n",
       " [0, 0, 0, 0, 0, 0, 0, 1, 'X', 2],\n",
       " [0, 0, 0, 0, 0, 0, 1, 2, 3, 'X'],\n",
       " [0, 0, 0, 0, 0, 0, 1, 'X', 2, 1],\n",
       " [0, 0, 1, 2, 2, 2, 2, 2, 1, 0],\n",
       " [0, 0, 1, 'X', 'X', 2, 'X', 2, 1, 0],\n",
       " [1, 1, 2, 2, 2, 2, 2, 'X', 1, 0],\n",
       " [1, 'X', 1, 0, 0, 0, 1, 1, 1, 0]]"
      ]
     },
     "execution_count": 13,
     "metadata": {},
     "output_type": "execute_result"
    }
   ],
   "source": [
    "board"
   ]
  },
  {
   "cell_type": "code",
   "execution_count": 14,
   "id": "334363b4-1c1e-494f-8c74-a06e88a84ace",
   "metadata": {},
   "outputs": [
    {
     "data": {
      "text/plain": [
       "[['#', '#', 'F', '#', '#', '#', '#', '#', '#', '#'],\n",
       " ['#', '#', '#', '#', '#', '#', '#', '#', '#', '#'],\n",
       " ['#', '#', '#', '#', '#', '#', '#', '#', '#', '#'],\n",
       " ['#', '#', '#', '#', '#', '#', '#', '#', '#', '#'],\n",
       " ['#', '#', '#', '#', '#', '#', '#', '#', '#', '#'],\n",
       " ['#', '#', '#', '#', '#', '#', '#', '#', '#', '#'],\n",
       " ['#', '#', '#', '#', '#', '#', '#', '#', '#', '#'],\n",
       " ['#', '#', '#', '#', '#', '#', '#', '#', '#', '#']]"
      ]
     },
     "execution_count": 14,
     "metadata": {},
     "output_type": "execute_result"
    }
   ],
   "source": [
    "flag_cell(board,covered_board,0,2)"
   ]
  },
  {
   "cell_type": "code",
   "execution_count": 15,
   "id": "32005480-67fc-4510-9d8d-4636a9e8752a",
   "metadata": {},
   "outputs": [
    {
     "data": {
      "text/plain": [
       "True"
      ]
     },
     "execution_count": 15,
     "metadata": {},
     "output_type": "execute_result"
    }
   ],
   "source": [
    "reveal_cell(board,covered_board,0,3)"
   ]
  },
  {
   "cell_type": "code",
   "execution_count": 47,
   "id": "28c4d0b5-18cd-4347-ab6c-4164a9bb9dce",
   "metadata": {},
   "outputs": [
    {
     "name": "stdout",
     "output_type": "stream",
     "text": [
      "+------------------------------------------------+\n",
      "['#', '#', '#', '#', '#', '#', '#', '#', '#', '#']\n",
      "['#', '#', '#', '#', '#', '#', '#', '#', '#', '#']\n",
      "['#', '#', '#', '#', '#', '#', '#', '#', '#', '#']\n",
      "['#', '#', '#', '#', '#', '#', '#', '#', '#', '#']\n",
      "['#', '#', '#', '#', '#', '#', '#', '#', '#', '#']\n",
      "['#', '#', '#', '#', '#', '#', '#', '#', '#', '#']\n",
      "['#', '#', '#', '#', '#', '#', '#', '#', '#', '#']\n",
      "['#', '#', '#', '#', '#', '#', '#', '#', '#', '#']\n",
      "+------------------------------------------------+\n"
     ]
    },
    {
     "name": "stdin",
     "output_type": "stream",
     "text": [
      "Enter move (R/F row col): R 0 0\n"
     ]
    },
    {
     "name": "stdout",
     "output_type": "stream",
     "text": [
      "+------------------------------------------------+\n",
      "[0, 1, '#', '#', '#', '#', '#', '#', '#', '#']\n",
      "[0, 1, '#', '#', '#', '#', '#', '#', '#', '#']\n",
      "[1, 2, '#', '#', '#', '#', '#', '#', '#', '#']\n",
      "['#', '#', '#', '#', '#', '#', '#', '#', '#', '#']\n",
      "['#', '#', '#', '#', '#', '#', '#', '#', '#', '#']\n",
      "['#', '#', '#', '#', '#', '#', '#', '#', '#', '#']\n",
      "['#', '#', '#', '#', '#', '#', '#', '#', '#', '#']\n",
      "['#', '#', '#', '#', '#', '#', '#', '#', '#', '#']\n",
      "+------------------------------------------------+\n"
     ]
    },
    {
     "name": "stdin",
     "output_type": "stream",
     "text": [
      "Enter move (R/F row col): R 3 0\n"
     ]
    },
    {
     "name": "stdout",
     "output_type": "stream",
     "text": [
      "[0, 1, '#', '#', '#', '#', '#', '#', '#', '#']\n",
      "[0, 1, 'X', '#', 'X', '#', '#', 'X', '#', '#']\n",
      "[1, 2, '#', 'X', '#', '#', '#', '#', '#', '#']\n",
      "['X', '#', '#', 'X', '#', '#', '#', '#', '#', '#']\n",
      "['#', '#', '#', '#', '#', '#', '#', '#', '#', '#']\n",
      "['#', '#', '#', '#', '#', '#', '#', '#', 'X', '#']\n",
      "['#', '#', '#', '#', '#', '#', '#', '#', 'X', '#']\n",
      "['#', '#', 'X', '#', '#', '#', 'X', '#', '#', '#']\n",
      "💥 You hit a mine... GAME OVER!\n"
     ]
    }
   ],
   "source": [
    "play_game()"
   ]
  },
  {
   "cell_type": "code",
   "execution_count": null,
   "id": "7ae5da4f-7f9c-407b-a092-26ed4785bc81",
   "metadata": {},
   "outputs": [
    {
     "name": "stdout",
     "output_type": "stream",
     "text": [
      "+------------------------------------------------+\n",
      "['#', '#', '#', '#', '#', '#', '#', '#', '#', '#']\n",
      "['#', '#', '#', '#', '#', '#', '#', '#', '#', '#']\n",
      "['#', '#', '#', '#', '#', '#', '#', '#', '#', '#']\n",
      "['#', '#', '#', '#', '#', '#', '#', '#', '#', '#']\n",
      "['#', '#', '#', '#', '#', '#', '#', '#', '#', '#']\n",
      "['#', '#', '#', '#', '#', '#', '#', '#', '#', '#']\n",
      "['#', '#', '#', '#', '#', '#', '#', '#', '#', '#']\n",
      "['#', '#', '#', '#', '#', '#', '#', '#', '#', '#']\n",
      "+------------------------------------------------+\n"
     ]
    },
    {
     "name": "stdin",
     "output_type": "stream",
     "text": [
      "Enter move (R/F row col): r 0 0\n"
     ]
    },
    {
     "name": "stdout",
     "output_type": "stream",
     "text": [
      "❌ Unknown action! Use 'R' to reveal or 'F' to flag.\n",
      "+------------------------------------------------+\n",
      "['#', '#', '#', '#', '#', '#', '#', '#', '#', '#']\n",
      "['#', '#', '#', '#', '#', '#', '#', '#', '#', '#']\n",
      "['#', '#', '#', '#', '#', '#', '#', '#', '#', '#']\n",
      "['#', '#', '#', '#', '#', '#', '#', '#', '#', '#']\n",
      "['#', '#', '#', '#', '#', '#', '#', '#', '#', '#']\n",
      "['#', '#', '#', '#', '#', '#', '#', '#', '#', '#']\n",
      "['#', '#', '#', '#', '#', '#', '#', '#', '#', '#']\n",
      "['#', '#', '#', '#', '#', '#', '#', '#', '#', '#']\n",
      "+------------------------------------------------+\n"
     ]
    },
    {
     "name": "stdin",
     "output_type": "stream",
     "text": [
      "Enter move (R/F row col): R 0 0\n"
     ]
    },
    {
     "name": "stdout",
     "output_type": "stream",
     "text": [
      "+------------------------------------------------+\n",
      "[0, 1, '#', '#', '#', '#', '#', '#', '#', '#']\n",
      "[0, 1, '#', '#', '#', '#', '#', '#', '#', '#']\n",
      "[0, 1, '#', '#', '#', '#', '#', '#', '#', '#']\n",
      "[0, 1, '#', '#', '#', '#', '#', '#', '#', '#']\n",
      "[0, 1, '#', '#', '#', '#', '#', '#', '#', '#']\n",
      "[0, 1, 2, 3, 2, 1, '#', '#', '#', '#']\n",
      "[0, 0, 0, 0, 0, 1, '#', '#', '#', '#']\n",
      "[0, 0, 0, 0, 0, 1, '#', '#', '#', '#']\n",
      "+------------------------------------------------+\n"
     ]
    }
   ],
   "source": [
    "play_game()"
   ]
  },
  {
   "cell_type": "code",
   "execution_count": null,
   "id": "99f8b292-abc4-4dec-b9eb-5693f7db1854",
   "metadata": {},
   "outputs": [],
   "source": [
    "0 0 0 0 0 1 # # # #\n",
    "0 0 0 0 0 1 # # # #\n",
    "0 1 1 1 0 1 # # # #\n",
    "0 1 F 1 0 1 # # # #\n",
    "0 1 1 1 1 2 # # # #\n",
    "0 0 0 0 1 F 2 # # #\n",
    "0 0 0 0 1 1 2 # # #\n",
    "0 0 0 0 0 0 1 # # #"
   ]
  }
 ],
 "metadata": {
  "kernelspec": {
   "display_name": "Python [conda env:base] *",
   "language": "python",
   "name": "conda-base-py"
  },
  "language_info": {
   "codemirror_mode": {
    "name": "ipython",
    "version": 3
   },
   "file_extension": ".py",
   "mimetype": "text/x-python",
   "name": "python",
   "nbconvert_exporter": "python",
   "pygments_lexer": "ipython3",
   "version": "3.13.5"
  }
 },
 "nbformat": 4,
 "nbformat_minor": 5
}
