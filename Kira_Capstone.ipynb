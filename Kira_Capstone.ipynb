{
 "cells": [
  {
   "cell_type": "code",
   "execution_count": null,
   "id": "323f8da5-0558-4fd9-aeb4-7f7dd9dda6e6",
   "metadata": {},
   "outputs": [],
   "source": [
    "# minesweeper"
   ]
  },
  {
   "cell_type": "code",
   "execution_count": 1,
   "id": "b3c6cec4-a743-4fc3-af24-424390a42fa9",
   "metadata": {},
   "outputs": [],
   "source": [
    "import numpy as np"
   ]
  },
  {
   "cell_type": "code",
   "execution_count": 2,
   "id": "5d5f933b-8648-430b-ae3e-2384c49e4a9b",
   "metadata": {},
   "outputs": [
    {
     "ename": "SyntaxError",
     "evalue": "invalid decimal literal (446482966.py, line 1)",
     "output_type": "error",
     "traceback": [
      "\u001b[0;36m  Cell \u001b[0;32mIn[2], line 1\u001b[0;36m\u001b[0m\n\u001b[0;31m    mine_grid: boolean 2D array (True = mine, False = empty)\u001b[0m\n\u001b[0m                       ^\u001b[0m\n\u001b[0;31mSyntaxError\u001b[0m\u001b[0;31m:\u001b[0m invalid decimal literal\n"
     ]
    }
   ],
   "source": [
    "mine_grid: boolean 2D array (True = mine, False = empty)\n",
    "count_grid: integer 2D array (0-8, neighbor mine counts)\n",
    "display_grid: state 2D array (HIDDEN/REVEALED/FLAGGED)\n",
    "\n",
    "# Display states\n",
    "HIDDEN = 0\n",
    "REVEALED = 1  \n",
    "FLAGGED = 2\n",
    "\n",
    "# Game states\n",
    "PLAYING = 0\n",
    "WON = 1\n",
    "LOST = 2\n",
    "\n",
    "# Display symbols\n",
    "SYMBOLS = {\n",
    "    HIDDEN: '□',      # Or '.' or '#'\n",
    "    FLAGGED: 'F',     # Or '⚑'\n",
    "    'MINE': '*',      # Or '💣'\n",
    "    'EMPTY': ' '      # Revealed empty cell\n",
    "    # Numbers 1-8 display as themselves\n",
    "}"
   ]
  },
  {
   "cell_type": "code",
   "execution_count": null,
   "id": "1049af2d-b3d4-4f17-82f5-ecdacb8cde56",
   "metadata": {},
   "outputs": [],
   "source": [
    "# Generated board (10x8)\n",
    "[[\"#\",\"#\",\"#\",\"#\",\"#\",\"#\",\"#\",\"#\",\"#\",\"#\"]\n",
    " [\"#\",\"#\",\"#\",\"#\",\"#\",\"#\",\"#\",\"#\",\"#\",\"#\"]\n",
    " [\"#\",\"#\",\"#\",\"#\",\"#\",\"#\",\"#\",\"#\",\"#\",\"#\"]\n",
    " [\"#\",\"#\",\"#\",\"#\",\"#\",\"#\",\"#\",\"#\",\"#\",\"#\"]\n",
    " [\"#\",\"#\",\"#\",\"#\",\"#\",\"#\",\"#\",\"#\",\"#\",\"#\"]\n",
    " [\"#\",\"#\",\"#\",\"#\",\"#\",\"#\",\"#\",\"#\",\"#\",\"#\"]\n",
    " [\"#\",\"#\",\"#\",\"#\",\"#\",\"#\",\"#\",\"#\",\"#\",\"#\"]\n",
    " [\"#\",\"#\",\"#\",\"#\",\"#\",\"#\",\"#\",\"#\",\"#\",\"#\"]]\n",
    "\n",
    "# With some revealed examples\n",
    "[[\"#\",\"#\",\"#\",\"#\",\"#\",\"#\",\"#\",\"#\",\"#\",\"#\"]\n",
    " [\"#\",\"#\",\"#\",\"F\",\"F\",\".\",\"#\",\"#\",\"#\",\"#\"]\n",
    " [\"#\",\"#\",\"#\",\"F\",\"3\",\".\",\"#\",\"#\",\"#\",\"#\"]\n",
    " [\"#\",\"#\",\"#\",\".\",\".\",\".\",\".\",\"#\",\"#\",\"#\"]\n",
    " [\"#\",\"#\",\".\",\".\",\".\",\"1\",\"F\",\"#\",\"#\",\"#\"]\n",
    " [\".\",\".\",\".\",\"2\",\".\",\".\",\".\",\"#\",\"#\",\"#\"]\n",
    " [\"1\",\"2\",\"F\",\"F\",\".\",\"#\",\"#\",\"#\",\"#\",\"#\"]\n",
    " [\".\",\"F\",\".\",\"#\",\"#\",\"#\",\"#\",\"#\",\"#\",\"#\"]]\n",
    "\n",
    "# KEY:\n",
    "# \"#\" unrevealed\n",
    "# \"F\" flagged mine\n",
    "# \".\" revealed\n",
    "# \"1-8\" number of surrounding mines"
   ]
  },
  {
   "cell_type": "code",
   "execution_count": 43,
   "id": "de16eeb8-56a7-4f40-ab04-d708f1241742",
   "metadata": {},
   "outputs": [],
   "source": [
    "import random"
   ]
  },
  {
   "cell_type": "code",
   "execution_count": 62,
   "id": "430e7053-2fff-4c92-a855-81f15e509bcf",
   "metadata": {},
   "outputs": [],
   "source": [
    "# function to generate board:\n",
    "def generate_board(n_row, n_col, num_mines):\n",
    "    # create lists with given dimensions + add random mines\n",
    "    board = []\n",
    "    for _ in range(n_row):\n",
    "        rows = []\n",
    "        for _ in range(n_col):\n",
    "            rows.append(0)\n",
    "        board.append(rows)\n",
    "    mines = set()\n",
    "    while len(mines) < num_mines:\n",
    "        r = random.randint(0, n_row - 1)\n",
    "        c = random.randint(0, n_col - 1)\n",
    "        if (r, c) not in mines:\n",
    "            board[r][c] = 'X'\n",
    "            mines.add((r, c))\n",
    "    \n",
    "    # add numbers of mines\n",
    "    directions = [(-1, -1), (-1, 0), (-1, 1),\n",
    "                  (0, -1),          (0, 1),\n",
    "                  (1, -1),  (1, 0), (1, 1)]\n",
    "    for r in range(n_row):\n",
    "        for c in range(n_col):\n",
    "            if board[r][c] == 'X':\n",
    "                continue\n",
    "            count = 0\n",
    "            for dr, dc in directions:\n",
    "                nr = r + dr\n",
    "                nc = c + dc\n",
    "                if 0 <= nr < n_row and 0 <= nc < n_col:\n",
    "                    if board[nr][nc] == 'X':\n",
    "                        count += 1\n",
    "            board[r][c] = count\n",
    "\n",
    "    return board, mines\n",
    "\n",
    "def display_board(board): #prints board with correct dimensions and unrevealed cells\n",
    "    covered_board = []\n",
    "    covered_rows = []\n",
    "    for item in board:\n",
    "        covered_rows.append(\"#\")\n",
    "    \n",
    "    return board\n",
    "\n",
    "# function for user revealing /flagging:\n",
    "\t# replace item from # to the original symbol\n",
    "\t# flagging will replace # with F\n",
    "# function to check if the player has won the game:\n",
    "\t# if number of revealed items == total items - mines\n",
    "\t\t# player wins!\n",
    "# somehow put this all into a loop so the player can keep flagging and revealing until they’ve won or lost\n",
    "\n",
    "def prettyprint(board):\n",
    "    as_str = []\n",
    "    for row in board:\n",
    "        as_str.append(str(row))\n",
    "    print(\"\\n\".join(as_str))"
   ]
  },
  {
   "cell_type": "code",
   "execution_count": 60,
   "id": "51040177-57eb-4b2f-98df-532941b0f627",
   "metadata": {},
   "outputs": [
    {
     "name": "stdout",
     "output_type": "stream",
     "text": [
      "[0, 2, 'X', 2, 0, 0, 0, 1, 'X', 1]\n",
      "[0, 2, 'X', 2, 0, 0, 0, 1, 1, 1]\n",
      "[0, 1, 1, 1, 0, 0, 0, 1, 1, 1]\n",
      "[1, 1, 1, 0, 0, 0, 0, 1, 'X', 1]\n",
      "[1, 'X', 2, 1, 0, 0, 0, 2, 2, 2]\n",
      "[1, 2, 'X', 2, 1, 1, 0, 1, 'X', 1]\n",
      "[0, 1, 1, 2, 'X', 1, 0, 1, 1, 1]\n",
      "[0, 0, 0, 1, 1, 1, 0, 0, 0, 0]\n",
      "None\n",
      "Mine coords: {(3, 8), (1, 2), (5, 8), (6, 4), (0, 2), (0, 8), (4, 1), (5, 2)}\n"
     ]
    }
   ],
   "source": [
    "board,mines = generate_board(8,10,8)\n",
    "print(prettyprint(board))\n",
    "print(f\"Mine coords: {mines}\")"
   ]
  },
  {
   "cell_type": "code",
   "execution_count": 61,
   "id": "f0f2b92f-dccb-41ca-8b13-dbdf861af895",
   "metadata": {},
   "outputs": [
    {
     "ename": "AttributeError",
     "evalue": "'list' object has no attribute 'replace'",
     "output_type": "error",
     "traceback": [
      "\u001b[0;31m---------------------------------------------------------------------------\u001b[0m",
      "\u001b[0;31mAttributeError\u001b[0m                            Traceback (most recent call last)",
      "Cell \u001b[0;32mIn[61], line 1\u001b[0m\n\u001b[0;32m----> 1\u001b[0m covered_board \u001b[38;5;241m=\u001b[39m prettyprint(display_board(board))\n",
      "Cell \u001b[0;32mIn[59], line 39\u001b[0m, in \u001b[0;36mdisplay_board\u001b[0;34m(board)\u001b[0m\n\u001b[1;32m     37\u001b[0m \u001b[38;5;28;01mdef\u001b[39;00m\u001b[38;5;250m \u001b[39m\u001b[38;5;21mdisplay_board\u001b[39m(board): \u001b[38;5;66;03m#prints board with correct dimensions and unrevealed cells\u001b[39;00m\n\u001b[1;32m     38\u001b[0m     \u001b[38;5;28;01mfor\u001b[39;00m item \u001b[38;5;129;01min\u001b[39;00m board:\n\u001b[0;32m---> 39\u001b[0m         board\u001b[38;5;241m.\u001b[39mreplace(item, \u001b[38;5;124m\"\u001b[39m\u001b[38;5;124m#\u001b[39m\u001b[38;5;124m\"\u001b[39m)\n\u001b[1;32m     40\u001b[0m     \u001b[38;5;28;01mreturn\u001b[39;00m board\n",
      "\u001b[0;31mAttributeError\u001b[0m: 'list' object has no attribute 'replace'"
     ]
    }
   ],
   "source": [
    "covered_board = prettyprint(display_board(board))"
   ]
  }
 ],
 "metadata": {
  "kernelspec": {
   "display_name": "Python [conda env:base] *",
   "language": "python",
   "name": "conda-base-py"
  },
  "language_info": {
   "codemirror_mode": {
    "name": "ipython",
    "version": 3
   },
   "file_extension": ".py",
   "mimetype": "text/x-python",
   "name": "python",
   "nbconvert_exporter": "python",
   "pygments_lexer": "ipython3",
   "version": "3.13.5"
  }
 },
 "nbformat": 4,
 "nbformat_minor": 5
}
